{
 "cells": [
  {
   "cell_type": "markdown",
   "metadata": {},
   "source": [
    "# No Free Lunch Theorem\n",
    "* ConvNet makes an assumption on the locality & the stationarity of images: http://cs231n.github.io/convolutional-networks/#fc\n",
    "* Fully-Connected Networks don't\n",
    "## In this notebook we will look at the MNIST dataset:\n",
    "* Compare ConvNet & Fully-Connected NNs\n",
    "* Compare them when the image is scrambled"
   ]
  },
  {
   "cell_type": "code",
   "execution_count": 2,
   "metadata": {
    "collapsed": true
   },
   "outputs": [],
   "source": [
    "import torch\n",
    "import torch.nn as nn\n",
    "import torch.nn.functional as F\n",
    "from torch.autograd import Variable\n",
    "%matplotlib inline\n",
    "import matplotlib.pyplot as plt"
   ]
  },
  {
   "cell_type": "markdown",
   "metadata": {},
   "source": [
    "## Load MNIST Dataset\n",
    "* Use the torchvision to import the dataset (pre-installed)"
   ]
  },
  {
   "cell_type": "code",
   "execution_count": 3,
   "metadata": {
    "collapsed": true
   },
   "outputs": [],
   "source": [
    "from torchvision import datasets, transforms # loads the data\n",
    "import torch.optim as optim"
   ]
  },
  {
   "cell_type": "code",
   "execution_count": 5,
   "metadata": {},
   "outputs": [],
   "source": [
    "train_loader = torch.utils.data.DataLoader(\n",
    "    datasets.MNIST('./data', train=True, download=True,\n",
    "                   transform=transforms.Compose([\n",
    "                       transforms.ToTensor(),\n",
    "                       transforms.Normalize((0.1307,), (0.3081,))\n",
    "                   ])),\n",
    "    batch_size=64, shuffle=True)\n",
    "\n"
   ]
  },
  {
   "cell_type": "code",
   "execution_count": 6,
   "metadata": {
    "collapsed": true
   },
   "outputs": [],
   "source": [
    "test_loader = torch.utils.data.DataLoader(\n",
    "    datasets.MNIST('./data', train=False, transform=transforms.Compose([\n",
    "                       transforms.ToTensor(),\n",
    "                       transforms.Normalize((0.1307,), (0.3081,))\n",
    "                   ])),\n",
    "    batch_size=1000, shuffle=True)"
   ]
  },
  {
   "cell_type": "code",
   "execution_count": 7,
   "metadata": {},
   "outputs": [
    {
     "data": {
      "image/png": "[encoded data removed]",
      "text/plain": [
       "<matplotlib.figure.Figure at 0x11bfc8fd0>"
      ]
     },
     "metadata": {},
     "output_type": "display_data"
    }
   ],
   "source": [
    "# show some images\n",
    "plt.figure()\n",
    "for i in range(20):\n",
    "    plt.subplot(4, 5, i + 1)\n",
    "    image, _ = train_loader.dataset.__getitem__(i)\n",
    "    plt.imshow(image.squeeze().numpy())"
   ]
  },
  {
   "cell_type": "markdown",
   "metadata": {},
   "source": [
    "## Create models"
   ]
  },
  {
   "cell_type": "code",
   "execution_count": 29,
   "metadata": {
    "collapsed": true
   },
   "outputs": [],
   "source": [
    "input_size  = 28*28   # images are 28x28 pixels\n",
    "output_size = 10      # there are 10 labels\n",
    "## Fully connected NN\n",
    "class FC2Layer(nn.Module):\n",
    "    def __init__(self, input_size,n_hidden, output_size):\n",
    "        super(FC2Layer,self).__init__()\n",
    "        self.input_size = input_size\n",
    "        self.network = nn.Sequential(\n",
    "            nn.Linear(input_size, n_hidden),\n",
    "            nn.ReLU(),\n",
    "            nn.Linear(n_hidden,n_hidden),\n",
    "            nn.ReLU(),\n",
    "            nn.Linear(n_hidden,output_size),\n",
    "            nn.LogSoftmax()\n",
    "        )\n",
    "    def forward(self, x):\n",
    "        x = x.view(-1,self.input_size)\n",
    "        return self.network(x)\n",
    "\n",
    "    \n",
    "## Convolutional NN   \n",
    "class Convnet(nn.Module):\n",
    "    def __init__(self, input_size, n_feature, output_size):\n",
    "        super(Convnet,self).__init__()\n",
    "        self.n_feature = n_feature\n",
    "        self.conv1 = nn.Conv2d(1, n_feature,kernel_size= 5)\n",
    "        self.conv2 = nn.Conv2d(n_feature,n_feature,kernel_size=5)\n",
    "        self.fc1 = nn.Linear(n_feature*4*4, 50)\n",
    "        self.fc2 = nn.Linear(50, 10) # as 10 classes\n",
    "        \n",
    "    def forward(self, x, verbose =False):\n",
    "        x = self.conv1(x)\n",
    "        x = F.relu(x)\n",
    "        x = F.max_pool2d(x, kernel_size=2)\n",
    "        x = self.conv2(x)\n",
    "        x = F.relu(x)\n",
    "        x = F.max_pool2d(x, kernel_size=2)\n",
    "        x = x.view(-1, self.n_feature*4*4)\n",
    "        x = self.fc1(x)\n",
    "        x = F.relu(x)\n",
    "        x = self.fc2(x)\n",
    "        x = F.log_softmax(x)\n",
    "        return x  "
   ]
  },
  {
   "cell_type": "markdown",
   "metadata": {},
   "source": [
    "## Lets define train and test modules:"
   ]
  },
  {
   "cell_type": "code",
   "execution_count": 30,
   "metadata": {
    "collapsed": true
   },
   "outputs": [],
   "source": [
    "accuracy_list = list()\n",
    "\n",
    "def train(epoch, model, perm = torch.arange(0,784).long()):\n",
    "    model.train()\n",
    "    for batch_idx, (data, target) in enumerate(train_loader):\n",
    "        data, target = Variable(data), Variable(target)\n",
    "        # permute pixels\n",
    "        data = data.view(-1, 28*28)\n",
    "        data = data[:, perm]\n",
    "        data = data.view(-1, 1, 28, 28)    \n",
    "        optimizer.zero_grad()\n",
    "        output = model(data)\n",
    "        loss = F.nll_loss(output,target)\n",
    "        loss.backward()\n",
    "        optimizer.step()\n",
    "        if batch_idx%100==0:\n",
    "              print('Train Epoch: {} [{}/{} ({:.0f}%)]\\tLoss: {:.6f}'.format(\n",
    "                epoch, batch_idx * len(data), len(train_loader.dataset),\n",
    "                100. * batch_idx / len(train_loader), loss.data[0]))\n",
    "\n",
    "\n",
    "def test(model, perm = torch.arange(0,784).long()):\n",
    "    model.eval()\n",
    "    test_loss=0\n",
    "    correct=0\n",
    "    for data, target in test_loader:\n",
    "        # permute pixels\n",
    "        data = data.view(-1, 28*28)\n",
    "        data = data[:, perm]\n",
    "        data = data.view(-1, 1, 28, 28)\n",
    "        data, target = Variable(data, volatile=True), Variable(target)\n",
    "        output = model(data)\n",
    "        test_loss += F.nll_loss(output, target, size_average=False).data[0] # sum up batch loss                                                               \n",
    "        pred = output.data.max(1, keepdim=True)[1] # get the index of the max log-probability                                                                 \n",
    "        correct += pred.eq(target.data.view_as(pred)).cpu().sum()\n",
    "    test_loss /= len(test_loader.dataset)\n",
    "    accuracy = 100. * correct / len(test_loader.dataset)\n",
    "    accuracy_list.append(accuracy)\n",
    "    print('\\nTest set: Average loss: {:.4f}, Accuracy: {}/{} ({:.0f}%)\\n'.format(\n",
    "        test_loss, correct, len(test_loader.dataset),\n",
    "        accuracy))     "
   ]
  },
  {
   "cell_type": "code",
   "execution_count": 31,
   "metadata": {
    "collapsed": true
   },
   "outputs": [],
   "source": [
    "# function to count number of parameters\n",
    "def get_n_params(model):\n",
    "    np=0\n",
    "    for p in list(model.parameters()):\n",
    "        np += p.nelement()\n",
    "    return np"
   ]
  },
  {
   "cell_type": "markdown",
   "metadata": {},
   "source": [
    "## Lets Train Fully Connected NN: "
   ]
  },
  {
   "cell_type": "code",
   "execution_count": 32,
   "metadata": {},
   "outputs": [
    {
     "name": "stdout",
     "output_type": "stream",
     "text": [
      "Number of parameters: 6442\n",
      "Train Epoch: 0 [0/60000 (0%)]\tLoss: 2.262342\n"
     ]
    },
    {
     "name": "stderr",
     "output_type": "stream",
     "text": [
      "/Users/aniruddhkhera/anaconda3/lib/python3.6/site-packages/torch/nn/modules/container.py:67: UserWarning: Implicit dimension choice for log_softmax has been deprecated. Change the call to include dim=X as an argument.\n",
      "  input = module(input)\n"
     ]
    },
    {
     "name": "stdout",
     "output_type": "stream",
     "text": [
      "Train Epoch: 0 [6400/60000 (11%)]\tLoss: 1.439713\n",
      "Train Epoch: 0 [12800/60000 (21%)]\tLoss: 0.939328\n",
      "Train Epoch: 0 [19200/60000 (32%)]\tLoss: 0.611498\n",
      "Train Epoch: 0 [25600/60000 (43%)]\tLoss: 0.615421\n",
      "Train Epoch: 0 [32000/60000 (53%)]\tLoss: 0.376399\n",
      "Train Epoch: 0 [38400/60000 (64%)]\tLoss: 0.452387\n",
      "Train Epoch: 0 [44800/60000 (75%)]\tLoss: 0.520108\n",
      "Train Epoch: 0 [51200/60000 (85%)]\tLoss: 0.232319\n",
      "Train Epoch: 0 [57600/60000 (96%)]\tLoss: 0.466811\n",
      "\n",
      "Test set: Average loss: 0.3840, Accuracy: 8896/10000 (89%)\n",
      "\n"
     ]
    }
   ],
   "source": [
    "n_hidden    = 8    # number of hidden units\n",
    "\n",
    "model = FC2Layer(input_size, n_hidden, output_size)\n",
    "optimizer = optim.SGD(model.parameters(), lr=0.01, momentum=0.5)\n",
    "print('Number of parameters: {}'.format(get_n_params(model)))\n",
    "\n",
    "for epoch in range(0, 1):\n",
    "    train(epoch, model)\n",
    "    test(model)"
   ]
  },
  {
   "cell_type": "markdown",
   "metadata": {},
   "source": [
    "## Now lets train a ConvNet"
   ]
  },
  {
   "cell_type": "code",
   "execution_count": 33,
   "metadata": {},
   "outputs": [
    {
     "name": "stdout",
     "output_type": "stream",
     "text": [
      "Number of parameters: 6422\n",
      "Train Epoch: 0 [0/60000 (0%)]\tLoss: 2.314385\n"
     ]
    },
    {
     "name": "stderr",
     "output_type": "stream",
     "text": [
      "/Users/aniruddhkhera/anaconda3/lib/python3.6/site-packages/ipykernel/__main__.py:42: UserWarning: Implicit dimension choice for log_softmax has been deprecated. Change the call to include dim=X as an argument.\n"
     ]
    },
    {
     "name": "stdout",
     "output_type": "stream",
     "text": [
      "Train Epoch: 0 [6400/60000 (11%)]\tLoss: 1.460055\n",
      "Train Epoch: 0 [12800/60000 (21%)]\tLoss: 0.621174\n",
      "Train Epoch: 0 [19200/60000 (32%)]\tLoss: 0.342388\n",
      "Train Epoch: 0 [25600/60000 (43%)]\tLoss: 0.362620\n",
      "Train Epoch: 0 [32000/60000 (53%)]\tLoss: 0.315854\n",
      "Train Epoch: 0 [38400/60000 (64%)]\tLoss: 0.174083\n",
      "Train Epoch: 0 [44800/60000 (75%)]\tLoss: 0.165584\n",
      "Train Epoch: 0 [51200/60000 (85%)]\tLoss: 0.105674\n",
      "Train Epoch: 0 [57600/60000 (96%)]\tLoss: 0.058061\n",
      "\n",
      "Test set: Average loss: 0.2010, Accuracy: 9382/10000 (94%)\n",
      "\n"
     ]
    }
   ],
   "source": [
    "# Training settings \n",
    "n_features    = 6     # number of feature maps\n",
    "\n",
    "model = Convnet(input_size, n_features, output_size)\n",
    "optimizer = optim.SGD(model.parameters(), lr=0.01, momentum=0.5)\n",
    "print('Number of parameters: {}'.format(get_n_params(model)))\n",
    "\n",
    "for epoch in range(0, 1):\n",
    "    train(epoch, model)\n",
    "    test(model)"
   ]
  },
  {
   "cell_type": "markdown",
   "metadata": {},
   "source": [
    "## The ConvNet performs better with the same number of parameters, thanks to its use of prior knowledge about images\n",
    "* Use of convolution: Locality and stationarity in images\n",
    "* Pooling: builds in some translation invariance\n",
    "\n",
    "### What happens if the assumptions are no longer true?"
   ]
  },
  {
   "cell_type": "code",
   "execution_count": 35,
   "metadata": {},
   "outputs": [
    {
     "data": {
      "image/png": "[encoded data removed]",
      "text/plain": [
       "<matplotlib.figure.Figure at 0x11d371eb8>"
      ]
     },
     "metadata": {},
     "output_type": "display_data"
    }
   ],
   "source": [
    "perm = torch.randperm(784)\n",
    "plt.figure()\n",
    "for i in range(10):\n",
    "    image, _ = train_loader.dataset.__getitem__(i)\n",
    "    # permute pixels\n",
    "    image_perm = image.view(-1, 28*28).clone()\n",
    "    image_perm = image_perm[:, perm]\n",
    "    image_perm = image_perm.view(-1, 1, 28, 28)\n",
    "    plt.subplot(4, 5, i + 1)\n",
    "    plt.imshow(image.squeeze().numpy())\n",
    "    plt.axis('off')\n",
    "    plt.subplot(4, 5, i + 11)\n",
    "    plt.imshow(image_perm.squeeze().numpy())\n",
    "    plt.axis('off')"
   ]
  },
  {
   "cell_type": "code",
   "execution_count": 36,
   "metadata": {},
   "outputs": [
    {
     "name": "stdout",
     "output_type": "stream",
     "text": [
      "Number of parameters: 6422\n",
      "Train Epoch: 0 [0/60000 (0%)]\tLoss: 2.309754\n"
     ]
    },
    {
     "name": "stderr",
     "output_type": "stream",
     "text": [
      "/Users/aniruddhkhera/anaconda3/lib/python3.6/site-packages/ipykernel/__main__.py:42: UserWarning: Implicit dimension choice for log_softmax has been deprecated. Change the call to include dim=X as an argument.\n"
     ]
    },
    {
     "name": "stdout",
     "output_type": "stream",
     "text": [
      "Train Epoch: 0 [6400/60000 (11%)]\tLoss: 2.273612\n",
      "Train Epoch: 0 [12800/60000 (21%)]\tLoss: 2.205857\n",
      "Train Epoch: 0 [19200/60000 (32%)]\tLoss: 1.992892\n",
      "Train Epoch: 0 [25600/60000 (43%)]\tLoss: 1.533526\n",
      "Train Epoch: 0 [32000/60000 (53%)]\tLoss: 1.057614\n",
      "Train Epoch: 0 [38400/60000 (64%)]\tLoss: 0.848543\n",
      "Train Epoch: 0 [44800/60000 (75%)]\tLoss: 0.756832\n",
      "Train Epoch: 0 [51200/60000 (85%)]\tLoss: 0.630865\n",
      "Train Epoch: 0 [57600/60000 (96%)]\tLoss: 0.582609\n",
      "\n",
      "Test set: Average loss: 0.5653, Accuracy: 8204/10000 (82%)\n",
      "\n"
     ]
    }
   ],
   "source": [
    "# Training settings \n",
    "n_features    = 6     # number of feature maps\n",
    "\n",
    "model = Convnet(input_size, n_features, output_size)\n",
    "optimizer = optim.SGD(model.parameters(), lr=0.01, momentum=0.5)\n",
    "print('Number of parameters: {}'.format(get_n_params(model)))\n",
    "\n",
    "for epoch in range(0, 1):\n",
    "    train(epoch, model,perm)\n",
    "    test(model,perm)"
   ]
  },
  {
   "cell_type": "code",
   "execution_count": 37,
   "metadata": {},
   "outputs": [
    {
     "name": "stdout",
     "output_type": "stream",
     "text": [
      "Number of parameters: 6442\n",
      "Train Epoch: 0 [0/60000 (0%)]\tLoss: 2.307459\n"
     ]
    },
    {
     "name": "stderr",
     "output_type": "stream",
     "text": [
      "/Users/aniruddhkhera/anaconda3/lib/python3.6/site-packages/torch/nn/modules/container.py:67: UserWarning: Implicit dimension choice for log_softmax has been deprecated. Change the call to include dim=X as an argument.\n",
      "  input = module(input)\n"
     ]
    },
    {
     "name": "stdout",
     "output_type": "stream",
     "text": [
      "Train Epoch: 0 [6400/60000 (11%)]\tLoss: 1.896578\n",
      "Train Epoch: 0 [12800/60000 (21%)]\tLoss: 1.549642\n",
      "Train Epoch: 0 [19200/60000 (32%)]\tLoss: 1.328235\n",
      "Train Epoch: 0 [25600/60000 (43%)]\tLoss: 1.042029\n",
      "Train Epoch: 0 [32000/60000 (53%)]\tLoss: 0.710152\n",
      "Train Epoch: 0 [38400/60000 (64%)]\tLoss: 0.739613\n",
      "Train Epoch: 0 [44800/60000 (75%)]\tLoss: 0.563761\n",
      "Train Epoch: 0 [51200/60000 (85%)]\tLoss: 0.697724\n",
      "Train Epoch: 0 [57600/60000 (96%)]\tLoss: 0.516866\n",
      "\n",
      "Test set: Average loss: 0.5252, Accuracy: 8274/10000 (83%)\n",
      "\n"
     ]
    }
   ],
   "source": [
    "n_hidden    = 8    # number of hidden units\n",
    "\n",
    "model = FC2Layer(input_size, n_hidden, output_size)\n",
    "optimizer = optim.SGD(model.parameters(), lr=0.01, momentum=0.5)\n",
    "print('Number of parameters: {}'.format(get_n_params(model)))\n",
    "\n",
    "for epoch in range(0, 1):\n",
    "    train(epoch, model, perm)\n",
    "    test(model, perm)"
   ]
  },
  {
   "cell_type": "markdown",
   "metadata": {},
   "source": [
    "# The ConvNet's performance drops when we permute the pixels, but the Fully-Connected Network's performance stays the same\n",
    "\n",
    "* ConvNet makes the assumption that pixels lie on a grid and are stationary/local\n",
    "* It loses performance when this assumption is wrong\n",
    "* The fully-connected network does not make this assumption\n",
    "* It does less well when it is true, since it doesn't take advantage of this prior knowledge\n",
    "* But it doesn't suffer when the assumption is wrong"
   ]
  },
  {
   "cell_type": "code",
   "execution_count": 41,
   "metadata": {},
   "outputs": [
    {
     "data": {
      "image/png": "[encoded data removed]",
      "text/plain": [
       "<matplotlib.figure.Figure at 0x11da3e9b0>"
      ]
     },
     "metadata": {},
     "output_type": "display_data"
    }
   ],
   "source": [
    "plt.bar(('NN image', 'CNN image',\n",
    "         'CNN scrambled', 'NN scrambled'),\n",
    "        accuracy_list, width=1)\n",
    "plt.ylim((80, 96))\n",
    "plt.ylabel('Accuracy [%]')\n",
    "for tick in plt.gca().xaxis.get_major_ticks():\n",
    "    tick.label.set_fontsize(20)\n",
    "plt.title('Performance comparison');"
   ]
  },
  {
   "cell_type": "code",
   "execution_count": null,
   "metadata": {
    "collapsed": true
   },
   "outputs": [],
   "source": []
  }
 ],
 "metadata": {
  "kernelspec": {
   "display_name": "Python [conda env:anaconda3]",
   "language": "python",
   "name": "conda-env-anaconda3-py"
  },
  "language_info": {
   "codemirror_mode": {
    "name": "ipython",
    "version": 3
   },
   "file_extension": ".py",
   "mimetype": "text/x-python",
   "name": "python",
   "nbconvert_exporter": "python",
   "pygments_lexer": "ipython3",
   "version": "3.6.3"
  }
 },
 "nbformat": 4,
 "nbformat_minor": 2
}
